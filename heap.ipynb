{
 "cells": [
  {
   "cell_type": "code",
   "execution_count": 3,
   "metadata": {},
   "outputs": [],
   "source": [
    "\n",
    "def max_heapify(arr,i):\n",
    "\n",
    "    heapsize = len(arr)-1\n",
    "    l,r = 2*i+1,2*i+2\n",
    "\n",
    "    if (l<=heapsize and arr[l]>arr[i]):\n",
    "        largest = l\n",
    "    else:\n",
    "        largest = i\n",
    "    if (r<=heapsize and arr[r]>arr[largest]):\n",
    "        largest = r\n",
    "    if largest != i:\n",
    "        arr[i],arr[largest] = arr[largest],arr[i]\n",
    "        max_heapify(arr,largest)\n",
    "    return arr\n",
    "\n",
    "\n",
    "def build_max_heap(arr):\n",
    "    for i in range(len(arr)//2, -1, -1):\n",
    "        max_heapify(arr,i)\n",
    "    print (arr)\n",
    "\n",
    "def extract_max(arr):\n",
    "    heapsize = len(arr)-1\n",
    "    if heapsize<0:\n",
    "        exit\n",
    "    max_element = arr[0]\n",
    "    arr[0] = arr[len(arr)-1]\n",
    "    del arr[len(arr)-1]\n",
    "    \n",
    "    max_heapify(arr,0)\n",
    "    return max_element\n",
    "\n",
    "def increase_key(arr,i,key):\n",
    "    if key < arr[i]:\n",
    "        print (\"New key is smaller than current key\")\n",
    "        exit\n",
    "    arr[i] = key\n",
    "    while i>0 and arr[(i-1)//2] < arr[i]:\n",
    "        arr[i],arr[(i-1)//2] = arr[(i-1)//2], arr[i]\n",
    "        i = (i-1)//2\n",
    "def insert_heap(arr,x):\n",
    "    arr.append(int(1e10))\n",
    "    increase_key(arr,len(arr)-1,x)\n",
    "def heap_sort(arr):\n",
    "    heap = []\n",
    "    for i in range(len(arr)//2, -1, -1):\n",
    "        max_heapify(arr,i)\n",
    "    while len(arr)>0:\n",
    "        heap.insert(0,extract_max(arr))\n",
    "        #heap.append(extract_max(arr))\n",
    "    print (heap)\n",
    "        \n",
    "\n",
    "        \n",
    "        \n",
    "        "
   ]
  },
  {
   "cell_type": "code",
   "execution_count": 4,
   "metadata": {},
   "outputs": [
    {
     "name": "stdout",
     "output_type": "stream",
     "text": [
      "[6, 4, 2, 3, 4]\n",
      "[2, 3, 4, 4, 6]\n"
     ]
    }
   ],
   "source": [
    "arr = [2,4,6,3,4]\n",
    "build_max_heap(arr)\n",
    "heap_sort(arr)"
   ]
  },
  {
   "cell_type": "code",
   "execution_count": 5,
   "metadata": {},
   "outputs": [],
   "source": [
    "def min_heapify(arr,i):\n",
    "\n",
    "    heapsize = len(arr)-1\n",
    "    l,r = 2*i+1,2*i+2\n",
    "\n",
    "    if (l<=heapsize and arr[l]<arr[i]):\n",
    "        smallest = l\n",
    "    else:\n",
    "        smallest = i\n",
    "    if (r<=heapsize and arr[r]<arr[smallest]):\n",
    "        smallest = r\n",
    "    if smallest != i:\n",
    "        arr[i],arr[smallest] = arr[smallest],arr[i]\n",
    "        min_heapify(arr,smallest)\n",
    "    return arr\n",
    "\n",
    "\n",
    "def build_min_heap(arr):\n",
    "    for i in range(len(arr)//2, -1, -1):\n",
    "        min_heapify(arr,i)\n",
    "    print (arr)\n",
    "\n",
    "def extract_min(arr):\n",
    "    heapsize = len(arr)-1\n",
    "    if heapsize<0:\n",
    "        exit\n",
    "    max_element = arr[0]\n",
    "    arr[0] = arr[len(arr)-1]\n",
    "    del arr[len(arr)-1]\n",
    "    \n",
    "    min_heapify(arr,0)\n",
    "    return max_element\n",
    "\n",
    "def decrease_key(arr,i,key):\n",
    "    if key > arr[i]:\n",
    "        print (\"New key is larger than current key\")\n",
    "        exit\n",
    "    arr[i] = key\n",
    "    while i>0 and arr[(i-1)//2] > arr[i]:\n",
    "        arr[i],arr[(i-1)//2] = arr[(i-1)//2], arr[i]\n",
    "        i = (i-1)//2\n",
    "def insert_min_heap(arr,x):\n",
    "    arr.append(int(1e10))\n",
    "    decrease_key(arr,len(arr)-1,x)\n",
    "def min_heap_sort(arr):\n",
    "    heap = []\n",
    "    for i in range(len(arr)//2, -1, -1):\n",
    "        min_heapify(arr,i)\n",
    "    while len(arr)>0:\n",
    "        heap.append(extract_max(arr))\n",
    "    print (heap)\n",
    "        "
   ]
  },
  {
   "cell_type": "code",
   "execution_count": 17,
   "metadata": {},
   "outputs": [
    {
     "name": "stdout",
     "output_type": "stream",
     "text": [
      "[6, 4, 2, 3, 4]\n"
     ]
    },
    {
     "data": {
      "text/plain": [
       "[6, 4, 2, 3, 4]"
      ]
     },
     "execution_count": 17,
     "metadata": {},
     "output_type": "execute_result"
    }
   ],
   "source": [
    "def build_priority_queue(arr):\n",
    "    build_max_heap(arr)\n",
    "def enqueue(arr,x):\n",
    "    insert_heap(arr,x)\n",
    "def dequeue(arr):\n",
    "    if len(arr)>0:\n",
    "        element = extract_max(arr)\n",
    "        return element\n",
    "    else:\n",
    "        return\n",
    "\n",
    "arr = [2,4,6,3,4]\n",
    "build_priority_queue(arr)\n",
    "arr\n"
   ]
  },
  {
   "cell_type": "code",
   "execution_count": 177,
   "metadata": {
    "scrolled": true
   },
   "outputs": [
    {
     "name": "stdout",
     "output_type": "stream",
     "text": [
      "[2, 3, 6, 4, 4]\n"
     ]
    },
    {
     "data": {
      "text/plain": [
       "[1, 3, 2, 4, 4, 6]"
      ]
     },
     "execution_count": 177,
     "metadata": {},
     "output_type": "execute_result"
    }
   ],
   "source": [
    "arr = [2,4,6,3,4]\n",
    "build_min_heap(arr)\n",
    "insert_min_heap(arr,1)\n",
    "arr"
   ]
  },
  {
   "cell_type": "code",
   "execution_count": null,
   "metadata": {},
   "outputs": [],
   "source": [
    "#What is the time complexity of merging logn sorted list into a single sorted list each of which \n",
    "#contains n/logn elements\n",
    "\n",
    "#Quick sort is unstable sorting method, but it is inplace sorting method.Justify\n",
    "\n",
    "#Merge sort is a stable sorting algorithm, but not in place sorting algorithm \n",
    "\n",
    "#In quick sort averlage of minimum and maximum element of list will be your pivot element"
   ]
  },
  {
   "cell_type": "code",
   "execution_count": null,
   "metadata": {},
   "outputs": [],
   "source": []
  }
 ],
 "metadata": {
  "kernelspec": {
   "display_name": "Python 3",
   "language": "python",
   "name": "python3"
  },
  "language_info": {
   "codemirror_mode": {
    "name": "ipython",
    "version": 3
   },
   "file_extension": ".py",
   "mimetype": "text/x-python",
   "name": "python",
   "nbconvert_exporter": "python",
   "pygments_lexer": "ipython3",
   "version": "3.7.3"
  }
 },
 "nbformat": 4,
 "nbformat_minor": 2
}
